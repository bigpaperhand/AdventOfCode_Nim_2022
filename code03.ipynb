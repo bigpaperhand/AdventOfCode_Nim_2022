{
 "cells": [
  {
   "cell_type": "code",
   "execution_count": 1,
   "id": "fa07c002-7ea9-48c4-bee5-4132b76a280f",
   "metadata": {},
   "outputs": [
    {
     "data": {
      "text/plain": []
     },
     "execution_count": 1,
     "metadata": {},
     "output_type": "execute_result"
    }
   ],
   "source": [
    "import os\n",
    "import strutils\n",
    "import sequtils\n",
    "import algorithm\n",
    "import tables"
   ]
  },
  {
   "cell_type": "code",
   "execution_count": 2,
   "id": "50b33faa-3115-4fc1-967e-38c05eb32ac1",
   "metadata": {},
   "outputs": [
    {
     "data": {
      "text/plain": []
     },
     "execution_count": 2,
     "metadata": {},
     "output_type": "execute_result"
    }
   ],
   "source": [
    "let \n",
    "  side_left = toSeq('a'..'z')\n",
    "  side_right = toSeq('A'..'Z')\n",
    "  side_both = side_left & side_right"
   ]
  },
  {
   "cell_type": "code",
   "execution_count": 4,
   "id": "be2f1175-af9d-4ac1-b350-d7ed69aa4a96",
   "metadata": {},
   "outputs": [
    {
     "data": {
      "text/plain": []
     },
     "execution_count": 4,
     "metadata": {},
     "output_type": "execute_result"
    }
   ],
   "source": [
    "let zipped = zip(side_both, toSeq(1..52))\n",
    "let side_dict = zipped.toTable()"
   ]
  },
  {
   "cell_type": "code",
   "execution_count": 5,
   "id": "95fc726f-85e4-4bd6-9f44-d9e878a76466",
   "metadata": {},
   "outputs": [
    {
     "data": {
      "text/plain": []
     },
     "execution_count": 5,
     "metadata": {},
     "output_type": "execute_result"
    }
   ],
   "source": [
    "let input_string = readFile(\"input03.txt\")\n",
    "let line_list = splitLines(input_string)"
   ]
  },
  {
   "cell_type": "code",
   "execution_count": 6,
   "id": "a02f05cd-d1a6-4e2b-bedf-b930acad4fd7",
   "metadata": {},
   "outputs": [
    {
     "data": {
      "text/plain": []
     },
     "execution_count": 6,
     "metadata": {},
     "output_type": "execute_result"
    }
   ],
   "source": [
    "var total = 0"
   ]
  },
  {
   "cell_type": "code",
   "execution_count": 7,
   "id": "73359266-a0b0-41eb-a91d-2c5111d45c98",
   "metadata": {},
   "outputs": [
    {
     "data": {
      "text/plain": []
     },
     "execution_count": 7,
     "metadata": {},
     "output_type": "execute_result"
    }
   ],
   "source": [
    "for line in line_list:\n",
    "  let s = toSeq(line.items)\n",
    "  for i in 0..(s.len/2-1).int:\n",
    "    if s[i] in s[(s.len/2).int..(s.len-1)]:\n",
    "      total = total + side_dict[s[i]]\n",
    "      break"
   ]
  },
  {
   "cell_type": "code",
   "execution_count": 8,
   "id": "1fa0d6e8-7f9d-4aa9-8eed-9da47299f623",
   "metadata": {},
   "outputs": [
    {
     "data": {
      "text/plain": [
       "7878\n"
      ]
     },
     "execution_count": 8,
     "metadata": {},
     "output_type": "execute_result"
    }
   ],
   "source": [
    "# First answer\n",
    "echo total"
   ]
  },
  {
   "cell_type": "markdown",
   "id": "72afba96-1b35-4327-adf1-2ee9aab2c7ed",
   "metadata": {},
   "source": [
    "--- "
   ]
  },
  {
   "cell_type": "code",
   "execution_count": 9,
   "id": "143a2196-0f74-40f6-b855-5bd0679e8bdb",
   "metadata": {},
   "outputs": [
    {
     "data": {
      "text/plain": []
     },
     "execution_count": 9,
     "metadata": {},
     "output_type": "execute_result"
    }
   ],
   "source": [
    "var total_value = 0\n",
    "var flag = 1\n",
    "var pivot_line: seq[char] = @[]\n",
    "var repeated: seq[char] = @[]"
   ]
  },
  {
   "cell_type": "code",
   "execution_count": 10,
   "id": "59e61ecf-d0cf-499c-9367-b04c562cd226",
   "metadata": {},
   "outputs": [
    {
     "data": {
      "text/plain": []
     },
     "execution_count": 10,
     "metadata": {},
     "output_type": "execute_result"
    }
   ],
   "source": [
    "for line in line_list:\n",
    "  if flag == 1:\n",
    "    pivot_line = toSeq(line.items)\n",
    "    flag = 2\n",
    "  elif flag == 2:\n",
    "    for i in toSeq(line.items):\n",
    "      if i in pivot_line:\n",
    "        repeated.add(i)\n",
    "    flag = 3\n",
    "  else:\n",
    "    for i in toSeq(line.items):\n",
    "      if i in repeated:\n",
    "        total_value = total_value + side_dict[i]\n",
    "        break\n",
    "    flag = 1\n",
    "    repeated = @[]"
   ]
  },
  {
   "cell_type": "code",
   "execution_count": 11,
   "id": "02371860-281d-4642-b277-41c456b2729f",
   "metadata": {},
   "outputs": [
    {
     "data": {
      "text/plain": [
       "2760\n"
      ]
     },
     "execution_count": 11,
     "metadata": {},
     "output_type": "execute_result"
    }
   ],
   "source": [
    "# Second answer\n",
    "echo total_value"
   ]
  },
  {
   "cell_type": "code",
   "execution_count": null,
   "id": "2cbc7909-c39b-4a1d-8f5e-74b903d4cd87",
   "metadata": {},
   "outputs": [],
   "source": []
  }
 ],
 "metadata": {
  "kernelspec": {
   "display_name": "Nim",
   "language": "nim",
   "name": "jupyternimspec"
  },
  "language_info": {
   "file_extension": ".nim",
   "mimetype": "text/x-nim",
   "name": "nim",
   "version": "1.6.10"
  }
 },
 "nbformat": 4,
 "nbformat_minor": 5
}
