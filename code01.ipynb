{
 "cells": [
  {
   "cell_type": "code",
   "execution_count": 1,
   "id": "5990a504-3a25-4e29-aa1e-590c5a9b7d6e",
   "metadata": {},
   "outputs": [
    {
     "data": {
      "text/plain": []
     },
     "execution_count": 1,
     "metadata": {},
     "output_type": "execute_result"
    }
   ],
   "source": [
    "import os\n",
    "import strutils\n",
    "import algorithm"
   ]
  },
  {
   "cell_type": "code",
   "execution_count": 2,
   "id": "7bbddd56-5992-4be0-9cb9-8db8ddc28a84",
   "metadata": {},
   "outputs": [
    {
     "data": {
      "text/plain": []
     },
     "execution_count": 2,
     "metadata": {},
     "output_type": "execute_result"
    }
   ],
   "source": [
    "let input_string = readFile(\"input01.txt\")"
   ]
  },
  {
   "cell_type": "code",
   "execution_count": 3,
   "id": "ac5c300d-0d16-406d-9dd6-19f4cb7e8fb2",
   "metadata": {},
   "outputs": [
    {
     "data": {
      "text/plain": []
     },
     "execution_count": 3,
     "metadata": {},
     "output_type": "execute_result"
    }
   ],
   "source": [
    "let line_list = splitLines(input_string)"
   ]
  },
  {
   "cell_type": "code",
   "execution_count": 4,
   "id": "14095827-1f52-4856-b3fb-c98be1c0df58",
   "metadata": {},
   "outputs": [
    {
     "data": {
      "text/plain": []
     },
     "execution_count": 4,
     "metadata": {},
     "output_type": "execute_result"
    }
   ],
   "source": [
    "var sum_list: seq[int] = @[]\n",
    "var total = 0\n",
    "for line in line_list:\n",
    "    if line == \"\":\n",
    "        sum_list.add(total)\n",
    "        total = 0\n",
    "    else:\n",
    "        total = total + parseInt(line)"
   ]
  },
  {
   "cell_type": "code",
   "execution_count": 5,
   "id": "796f6a7c-9c18-4242-be2d-5112517fa54f",
   "metadata": {},
   "outputs": [
    {
     "data": {
      "text/plain": []
     },
     "execution_count": 5,
     "metadata": {},
     "output_type": "execute_result"
    }
   ],
   "source": [
    "sum_list.sort()"
   ]
  },
  {
   "cell_type": "code",
   "execution_count": 6,
   "id": "15b3dbc5-8320-4230-844d-106cbde39a02",
   "metadata": {},
   "outputs": [
    {
     "data": {
      "text/plain": [
       "67450\n"
      ]
     },
     "execution_count": 6,
     "metadata": {},
     "output_type": "execute_result"
    }
   ],
   "source": [
    "# First answer\n",
    "echo sum_list[sum_list.len-1]"
   ]
  },
  {
   "cell_type": "markdown",
   "id": "7e771770-aca0-48f5-bd32-862f3ee3641e",
   "metadata": {},
   "source": [
    "----"
   ]
  },
  {
   "cell_type": "code",
   "execution_count": 7,
   "id": "a8e7b6b9-dcb1-484e-b4ad-53973873019a",
   "metadata": {},
   "outputs": [
    {
     "data": {
      "text/plain": [
       "199357\n"
      ]
     },
     "execution_count": 7,
     "metadata": {},
     "output_type": "execute_result"
    }
   ],
   "source": [
    "# Second answer\n",
    "let length = sum_list.len\n",
    "echo sum_list[length-1] + sum_list[length-2] + sum_list[length-3]"
   ]
  },
  {
   "cell_type": "code",
   "execution_count": null,
   "id": "fa935848-f954-4f1b-a4d5-890b412faa62",
   "metadata": {},
   "outputs": [],
   "source": []
  }
 ],
 "metadata": {
  "kernelspec": {
   "display_name": "Nim",
   "language": "nim",
   "name": "jupyternimspec"
  },
  "language_info": {
   "file_extension": ".nim",
   "mimetype": "text/x-nim",
   "name": "nim",
   "version": "1.6.10"
  }
 },
 "nbformat": 4,
 "nbformat_minor": 5
}
