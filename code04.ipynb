{
 "cells": [
  {
   "cell_type": "code",
   "execution_count": 1,
   "id": "48bc25bf-7492-48f6-b974-41ac5f8f41d6",
   "metadata": {},
   "outputs": [
    {
     "data": {
      "text/plain": []
     },
     "execution_count": 1,
     "metadata": {},
     "output_type": "execute_result"
    }
   ],
   "source": [
    "import os\n",
    "import strutils\n",
    "import sequtils"
   ]
  },
  {
   "cell_type": "code",
   "execution_count": 26,
   "id": "e4ceec8e-cf04-48a7-9632-93a9adfcf8f4",
   "metadata": {},
   "outputs": [
    {
     "data": {
      "text/plain": []
     },
     "execution_count": 26,
     "metadata": {},
     "output_type": "execute_result"
    }
   ],
   "source": [
    "let input_string = readFile(\"input04.txt\")\n",
    "let line_list = splitLines(input_string)"
   ]
  },
  {
   "cell_type": "code",
   "execution_count": 27,
   "id": "0f1336e5-0198-4f12-88ca-548ca5fc3c57",
   "metadata": {},
   "outputs": [
    {
     "data": {
      "text/plain": []
     },
     "execution_count": 27,
     "metadata": {},
     "output_type": "execute_result"
    }
   ],
   "source": [
    "var total = 0 "
   ]
  },
  {
   "cell_type": "code",
   "execution_count": 28,
   "id": "6a63a085-ad4b-4e3f-a254-00a9feb25c88",
   "metadata": {},
   "outputs": [
    {
     "data": {
      "text/plain": []
     },
     "execution_count": 28,
     "metadata": {},
     "output_type": "execute_result"
    }
   ],
   "source": [
    "for line in line_list:\n",
    "  let s = line.split(\",\")\n",
    "  let a = s[0].split(\"-\")\n",
    "  let b = s[1].split(\"-\")\n",
    "  if (parseInt(b[0]) <= parseInt(a[0]) and parseInt(a[1]) <= parseInt(b[1])) or (parseInt(a[0]) <= parseInt(b[0]) and parseInt(b[1]) <= parseInt(a[1])):\n",
    "    total = total + 1 "
   ]
  },
  {
   "cell_type": "code",
   "execution_count": 29,
   "id": "2ce58361-2262-4dd6-b557-71057d75fa78",
   "metadata": {},
   "outputs": [
    {
     "data": {
      "text/plain": [
       "477\n"
      ]
     },
     "execution_count": 29,
     "metadata": {},
     "output_type": "execute_result"
    }
   ],
   "source": [
    "# First answer\n",
    "echo total"
   ]
  },
  {
   "cell_type": "markdown",
   "id": "ee64e821-a05b-4239-b18a-65be57c24ca5",
   "metadata": {},
   "source": [
    "----"
   ]
  },
  {
   "cell_type": "code",
   "execution_count": 30,
   "id": "22a4a5d2-74cf-4416-83c8-d6749e757f9d",
   "metadata": {},
   "outputs": [
    {
     "data": {
      "text/plain": []
     },
     "execution_count": 30,
     "metadata": {},
     "output_type": "execute_result"
    }
   ],
   "source": [
    "var total_overlap_partial = 0"
   ]
  },
  {
   "cell_type": "code",
   "execution_count": 31,
   "id": "a2fd77bb-dd13-4f9a-8c57-77d57379dc2d",
   "metadata": {},
   "outputs": [
    {
     "data": {
      "text/plain": []
     },
     "execution_count": 31,
     "metadata": {},
     "output_type": "execute_result"
    }
   ],
   "source": [
    "for line in line_list:\n",
    "  let s = line.split(\",\")\n",
    "  let a = s[0].split(\"-\")\n",
    "  let b = s[1].split(\"-\")\n",
    "  if (parseInt(b[0]) <= parseInt(a[1]) and parseInt(a[0]) <= parseInt(b[1])) or (parseInt(a[0]) <= parseInt(b[1]) and parseInt(b[0]) <= parseInt(a[1])):\n",
    "    total_overlap_partial = total_overlap_partial + 1 "
   ]
  },
  {
   "cell_type": "code",
   "execution_count": 32,
   "id": "fc7a5eb5-032e-465a-ab21-3bf17c0bcaa5",
   "metadata": {},
   "outputs": [
    {
     "data": {
      "text/plain": [
       "830\n"
      ]
     },
     "execution_count": 32,
     "metadata": {},
     "output_type": "execute_result"
    }
   ],
   "source": [
    "# Second answer\n",
    "echo total_overlap_partial"
   ]
  },
  {
   "cell_type": "code",
   "execution_count": null,
   "id": "7e9f0a05-2c76-4bc9-adb7-66f060cb9622",
   "metadata": {},
   "outputs": [],
   "source": []
  }
 ],
 "metadata": {
  "kernelspec": {
   "display_name": "Nim",
   "language": "nim",
   "name": "jupyternimspec"
  },
  "language_info": {
   "file_extension": ".nim",
   "mimetype": "text/x-nim",
   "name": "nim",
   "version": "1.6.10"
  }
 },
 "nbformat": 4,
 "nbformat_minor": 5
}
