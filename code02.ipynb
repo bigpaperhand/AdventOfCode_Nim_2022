{
 "cells": [
  {
   "cell_type": "code",
   "execution_count": 1,
   "id": "97936702-51a7-4967-b4ee-c5dc32b8ba1c",
   "metadata": {},
   "outputs": [
    {
     "data": {
      "text/plain": []
     },
     "execution_count": 1,
     "metadata": {},
     "output_type": "execute_result"
    }
   ],
   "source": [
    "import os\n",
    "import strutils\n",
    "import algorithm\n",
    "import tables"
   ]
  },
  {
   "cell_type": "code",
   "execution_count": 4,
   "id": "ec5d4adf-877f-41f4-9597-cd5047c912a0",
   "metadata": {},
   "outputs": [
    {
     "data": {
      "text/plain": []
     },
     "execution_count": 4,
     "metadata": {},
     "output_type": "execute_result"
    }
   ],
   "source": [
    "let input_string = readFile(\"input02.txt\")"
   ]
  },
  {
   "cell_type": "code",
   "execution_count": 5,
   "id": "73c92f5b-fdcb-410d-9b08-83d27d6b0ca9",
   "metadata": {},
   "outputs": [
    {
     "data": {
      "text/plain": []
     },
     "execution_count": 5,
     "metadata": {},
     "output_type": "execute_result"
    }
   ],
   "source": [
    "let line_list = splitLines(input_string)"
   ]
  },
  {
   "cell_type": "code",
   "execution_count": 6,
   "id": "92e3db27-ab1c-4473-a232-b2be08ea92ee",
   "metadata": {},
   "outputs": [
    {
     "data": {
      "text/plain": []
     },
     "execution_count": 6,
     "metadata": {},
     "output_type": "execute_result"
    }
   ],
   "source": [
    "# A X Rock 1 / B Y Paper 2 / C Z Scissors 3\n",
    "# Lose 0 / Draw 3 / Win 6\n",
    "var points_rules = {\n",
    "  \"A X\": 4, \"A Y\": 8, \"A Z\": 3,\n",
    "  \"B X\": 1, \"B Y\": 5, \"B Z\": 9,\n",
    "  \"C X\": 7, \"C Y\": 2, \"C Z\": 6,\n",
    "}.toTable"
   ]
  },
  {
   "cell_type": "code",
   "execution_count": 8,
   "id": "c4e765fb-7560-4d19-9371-2c19fd8c97eb",
   "metadata": {},
   "outputs": [
    {
     "data": {
      "text/plain": []
     },
     "execution_count": 8,
     "metadata": {},
     "output_type": "execute_result"
    }
   ],
   "source": [
    "var total = 0\n",
    "var points_list: seq[int] = @[]\n",
    "for line in line_list:\n",
    "    points_list.add(points_rules[line])\n",
    "    total = total + points_rules[line]"
   ]
  },
  {
   "cell_type": "code",
   "execution_count": 9,
   "id": "785b0e4d-8a46-4746-aa25-5697d66b7c2f",
   "metadata": {},
   "outputs": [
    {
     "data": {
      "text/plain": [
       "13009\n"
      ]
     },
     "execution_count": 9,
     "metadata": {},
     "output_type": "execute_result"
    }
   ],
   "source": [
    "# First answer\n",
    "echo total"
   ]
  },
  {
   "cell_type": "markdown",
   "id": "0e32dcc4-24be-4015-8d3f-abb74f66cb1c",
   "metadata": {},
   "source": [
    "--- "
   ]
  },
  {
   "cell_type": "code",
   "execution_count": 10,
   "id": "1f4ab5a6-b6b6-445e-8a7a-9c93071a3204",
   "metadata": {},
   "outputs": [
    {
     "data": {
      "text/plain": []
     },
     "execution_count": 10,
     "metadata": {},
     "output_type": "execute_result"
    }
   ],
   "source": [
    "# A Rock 1 / B Paper 2 / C Scissors 3\n",
    "# X Lose 0 / Y Draw 3 / Z Win 6\n",
    "var inverse_points_rules = {\n",
    "  \"A X\": 3, \"A Y\": 4, \"A Z\": 8,\n",
    "  \"B X\": 1, \"B Y\": 5, \"B Z\": 9,\n",
    "  \"C X\": 2, \"C Y\": 6, \"C Z\": 7,\n",
    "}.toTable"
   ]
  },
  {
   "cell_type": "code",
   "execution_count": 11,
   "id": "3ecf38cc-20a3-4d5a-8d27-09328cb4efdd",
   "metadata": {},
   "outputs": [
    {
     "data": {
      "text/plain": []
     },
     "execution_count": 11,
     "metadata": {},
     "output_type": "execute_result"
    }
   ],
   "source": [
    "var inverse_total = 0\n",
    "var inverse_points_list: seq[int] = @[]\n",
    "for line in line_list:\n",
    "    inverse_points_list.add(inverse_points_rules[line])\n",
    "    inverse_total = inverse_total + inverse_points_rules[line]"
   ]
  },
  {
   "cell_type": "code",
   "execution_count": 12,
   "id": "cf7b9df9-5bf5-41f5-bfeb-36367ccd0621",
   "metadata": {},
   "outputs": [
    {
     "data": {
      "text/plain": [
       "10398\n"
      ]
     },
     "execution_count": 12,
     "metadata": {},
     "output_type": "execute_result"
    }
   ],
   "source": [
    "# Second answer\n",
    "echo inverse_total"
   ]
  },
  {
   "cell_type": "code",
   "execution_count": null,
   "id": "9262dff5-56bc-4d5e-b005-ab5d90841acc",
   "metadata": {},
   "outputs": [],
   "source": []
  }
 ],
 "metadata": {
  "kernelspec": {
   "display_name": "Nim",
   "language": "nim",
   "name": "jupyternimspec"
  },
  "language_info": {
   "file_extension": ".nim",
   "mimetype": "text/x-nim",
   "name": "nim",
   "version": "1.6.10"
  }
 },
 "nbformat": 4,
 "nbformat_minor": 5
}
